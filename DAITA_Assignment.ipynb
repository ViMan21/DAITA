{
  "nbformat": 4,
  "nbformat_minor": 0,
  "metadata": {
    "colab": {
      "name": "DAITA Assignment.ipynb",
      "provenance": [],
      "collapsed_sections": [],
      "authorship_tag": "ABX9TyMmfVi6yQMd+4UhY3gmfLOe",
      "include_colab_link": true
    },
    "kernelspec": {
      "display_name": "Python 3",
      "name": "python3"
    },
    "language_info": {
      "name": "python"
    }
  },
  "cells": [
    {
      "cell_type": "markdown",
      "metadata": {
        "id": "view-in-github",
        "colab_type": "text"
      },
      "source": [
        "<a href=\"https://colab.research.google.com/github/ViMan21/DAITA/blob/main/DAITA_Assignment.ipynb\" target=\"_parent\"><img src=\"https://colab.research.google.com/assets/colab-badge.svg\" alt=\"Open In Colab\"/></a>"
      ]
    },
    {
      "cell_type": "code",
      "metadata": {
        "colab": {
          "base_uri": "https://localhost:8080/"
        },
        "id": "D3Cm6FX1T8qO",
        "outputId": "9de247d3-a056-4de8-8b85-9fe5a8c89da8"
      },
      "source": [
        "pip install lightfm"
      ],
      "execution_count": null,
      "outputs": [
        {
          "output_type": "stream",
          "text": [
            "Requirement already satisfied: lightfm in /usr/local/lib/python3.7/dist-packages (1.16)\n",
            "Requirement already satisfied: numpy in /usr/local/lib/python3.7/dist-packages (from lightfm) (1.19.5)\n",
            "Requirement already satisfied: requests in /usr/local/lib/python3.7/dist-packages (from lightfm) (2.23.0)\n",
            "Requirement already satisfied: scipy>=0.17.0 in /usr/local/lib/python3.7/dist-packages (from lightfm) (1.4.1)\n",
            "Requirement already satisfied: scikit-learn in /usr/local/lib/python3.7/dist-packages (from lightfm) (0.22.2.post1)\n",
            "Requirement already satisfied: certifi>=2017.4.17 in /usr/local/lib/python3.7/dist-packages (from requests->lightfm) (2020.12.5)\n",
            "Requirement already satisfied: urllib3!=1.25.0,!=1.25.1,<1.26,>=1.21.1 in /usr/local/lib/python3.7/dist-packages (from requests->lightfm) (1.24.3)\n",
            "Requirement already satisfied: idna<3,>=2.5 in /usr/local/lib/python3.7/dist-packages (from requests->lightfm) (2.10)\n",
            "Requirement already satisfied: chardet<4,>=3.0.2 in /usr/local/lib/python3.7/dist-packages (from requests->lightfm) (3.0.4)\n",
            "Requirement already satisfied: joblib>=0.11 in /usr/local/lib/python3.7/dist-packages (from scikit-learn->lightfm) (1.0.1)\n"
          ],
          "name": "stdout"
        }
      ]
    },
    {
      "cell_type": "code",
      "metadata": {
        "id": "sh4C6GVvTzSc"
      },
      "source": [
        "import csv\n",
        "import pandas as pd\n",
        "\n",
        "RATING_FILE = 'ratings.csv'\n",
        "CLEAN_RATING_FILE = 'ratings_nodup.csv'\n",
        "FEATURE_FILE = 'features.csv'\n",
        "CLEAN_FEATURE_FILE = 'features_noNA.csv'"
      ],
      "execution_count": null,
      "outputs": []
    },
    {
      "cell_type": "code",
      "metadata": {
        "id": "_hfor3Z4Se-l"
      },
      "source": [
        "toclean = pd.read_csv(RATING_FILE)\n",
        "toclean = toclean.drop_duplicates(['user_id','product_id'])\n",
        "toclean.to_csv(CLEAN_RATING_FILE, index=False, float_format='%.0f')"
      ],
      "execution_count": null,
      "outputs": []
    },
    {
      "cell_type": "code",
      "metadata": {
        "id": "lcVxKCiu3-le"
      },
      "source": [
        "toclean = pd.read_csv(FEATURE_FILE)\n",
        "toclean = toclean.replace('#DIV/0!', 'unknown')\n",
        "toclean = toclean.replace('#N/A', 'unknown')\n",
        "toclean['avg_ratings'] = toclean['avg_ratings'].apply(lambda x: round(x*2)/2)\n",
        "toclean['price'] = toclean['price'].apply(lambda x: round(x))\n",
        "toclean['num_ratings'] = toclean['num_ratings'].apply(lambda x: round(x, -len(str(x))+1))\n",
        "toclean.to_csv(CLEAN_FEATURE_FILE, index=False)"
      ],
      "execution_count": null,
      "outputs": []
    },
    {
      "cell_type": "code",
      "metadata": {
        "id": "Wi6DcfKOnTdy"
      },
      "source": [
        "def getRatings():\n",
        "  return csv.DictReader(open(CLEAN_RATING_FILE),delimiter=\",\")\n",
        "\n",
        "def getFeatures():\n",
        "  return csv.DictReader(open(CLEAN_FEATURE_FILE),delimiter=\",\")"
      ],
      "execution_count": null,
      "outputs": []
    },
    {
      "cell_type": "code",
      "metadata": {
        "id": "YXgU8XGWZJSX"
      },
      "source": [
        "ratings = getRatings()\n",
        "features = getFeatures()\n"
      ],
      "execution_count": null,
      "outputs": []
    },
    {
      "cell_type": "code",
      "metadata": {
        "colab": {
          "base_uri": "https://localhost:8080/"
        },
        "id": "RNP-Z8fggf8i",
        "outputId": "b4018a50-ff5f-4803-e15c-5fe86ee438eb"
      },
      "source": [
        "import json\n",
        "from itertools import islice\n",
        "\n",
        "for line in islice(ratings, 2):\n",
        "    print(json.dumps(line, indent=4))\n"
      ],
      "execution_count": null,
      "outputs": [
        {
          "output_type": "stream",
          "text": [
            "{\n",
            "    \"user_id\": \"8765713110\",\n",
            "    \"product_id\": \"1623200116759\",\n",
            "    \"rating\": \"10\"\n",
            "}\n",
            "{\n",
            "    \"user_id\": \"8765713110\",\n",
            "    \"product_id\": \"353472373254\",\n",
            "    \"rating\": \"9\"\n",
            "}\n"
          ],
          "name": "stdout"
        }
      ]
    },
    {
      "cell_type": "code",
      "metadata": {
        "id": "euJadTnJZkWv"
      },
      "source": [
        "from lightfm.data import Dataset\n",
        "\n",
        "dataset = Dataset()\n",
        "dataset.fit((x['user_id'] for x in getRatings()),\n",
        "            (x['product_id'] for x in getRatings()))"
      ],
      "execution_count": null,
      "outputs": []
    },
    {
      "cell_type": "code",
      "metadata": {
        "colab": {
          "base_uri": "https://localhost:8080/"
        },
        "id": "Ya48E4lX2sMo",
        "outputId": "4435e26c-e760-4c02-fb04-a497cf87767b"
      },
      "source": [
        "num_users, num_items = dataset.interactions_shape()\n",
        "print('Num users: {}, num_items {}.'.format(num_users, num_items))"
      ],
      "execution_count": null,
      "outputs": [
        {
          "output_type": "stream",
          "text": [
            "Num users: 16838, num_items 3914.\n"
          ],
          "name": "stdout"
        }
      ]
    },
    {
      "cell_type": "code",
      "metadata": {
        "colab": {
          "base_uri": "https://localhost:8080/"
        },
        "id": "hD3l3Dt1kEej",
        "outputId": "8b7f7aaa-b42b-4a72-c991-30a6894b8e79"
      },
      "source": [
        "(interactions, weights) = dataset.build_interactions([(x['user_id'], x['product_id'], int(x['rating']))\n",
        "                                                      for x in getRatings()])\n",
        "\n",
        "print(repr(interactions))"
      ],
      "execution_count": null,
      "outputs": [
        {
          "output_type": "stream",
          "text": [
            "<16838x3914 sparse matrix of type '<class 'numpy.int32'>'\n",
            "\twith 88436 stored elements in COOrdinate format>\n"
          ],
          "name": "stdout"
        }
      ]
    },
    {
      "cell_type": "code",
      "metadata": {
        "id": "cBbytKnUOOoO"
      },
      "source": [
        "def get_feature_byID(name):\n",
        "  return (name+\":\"+x[name] for x in getFeatures())"
      ],
      "execution_count": null,
      "outputs": []
    },
    {
      "cell_type": "code",
      "metadata": {
        "id": "7du7gkMo_CdN"
      },
      "source": [
        "def get_feature_ID(name):\n",
        "  feature = ''.join([i for i in name if not i.isdigit()])\n",
        "  return (feature+\":\"+x[name] for x in getFeatures())"
      ],
      "execution_count": null,
      "outputs": []
    },
    {
      "cell_type": "code",
      "metadata": {
        "id": "ahnvWl1CtHIt"
      },
      "source": [
        "dataset.fit_partial(items=(x['product_id'] for x in getFeatures()))\n",
        "dataset.fit_partial(item_features=get_feature_byID('product_year'))\n",
        "dataset.fit_partial(item_features=get_feature_byID('country_name'))\n",
        "dataset.fit_partial(item_features=get_feature_byID('feature1'))\n",
        "dataset.fit_partial(item_features=get_feature_byID('feature2'))\n",
        "dataset.fit_partial(item_features=get_feature_byID('feature3'))\n",
        "dataset.fit_partial(item_features=get_feature_byID('feature4'))\n",
        "dataset.fit_partial(item_features=get_feature_byID('feature5'))\n",
        "dataset.fit_partial(item_features=get_feature_byID('num_ratings'))\n",
        "dataset.fit_partial(item_features=get_feature_byID('avg_ratings'))\n",
        "dataset.fit_partial(item_features=get_feature_byID('region_name'))\n",
        "dataset.fit_partial(item_features=get_feature_byID('food1'))\n",
        "dataset.fit_partial(item_features=get_feature_byID('food2'))\n",
        "dataset.fit_partial(item_features=get_feature_byID('food3'))\n",
        "dataset.fit_partial(item_features=get_feature_byID('food4'))\n",
        "dataset.fit_partial(item_features=get_feature_byID('food5'))\n",
        "dataset.fit_partial(item_features=get_feature_byID('food6'))\n",
        "dataset.fit_partial(item_features=get_feature_byID('food7'))\n",
        "dataset.fit_partial(item_features=get_feature_byID('note1'))\n",
        "dataset.fit_partial(item_features=get_feature_byID('note2'))\n",
        "dataset.fit_partial(item_features=get_feature_byID('note3'))\n",
        "dataset.fit_partial(item_features=get_feature_byID('note4'))\n",
        "dataset.fit_partial(item_features=get_feature_byID('note5'))\n",
        "dataset.fit_partial(item_features=get_feature_byID('note6'))\n",
        "dataset.fit_partial(item_features=get_feature_byID('note7'))\n",
        "dataset.fit_partial(item_features=get_feature_byID('note8'))\n",
        "dataset.fit_partial(item_features=get_feature_byID('note9'))\n",
        "dataset.fit_partial(item_features=get_feature_byID('note10'))\n",
        "dataset.fit_partial(item_features=get_feature_byID('note11'))\n",
        "dataset.fit_partial(item_features=get_feature_byID('note12'))\n",
        "dataset.fit_partial(item_features=get_feature_byID('note13'))\n",
        "dataset.fit_partial(item_features=get_feature_byID('class_name'))\n",
        "dataset.fit_partial(item_features=get_feature_byID('price'))"
      ],
      "execution_count": null,
      "outputs": []
    },
    {
      "cell_type": "code",
      "metadata": {
        "colab": {
          "base_uri": "https://localhost:8080/"
        },
        "id": "64iFDsG6q3uD",
        "outputId": "3cf080bf-2c8a-4a70-8824-6674f5ea1ba5"
      },
      "source": [
        "item_features = dataset.build_item_features(((x['product_id'], ['country_name:' + x['country_name'], \n",
        "                                                                'product_year:' + x['product_year'],  \n",
        "                                                                'feature1:' + x['feature1'], \n",
        "                                                                'feature2:' + x['feature2'], \n",
        "                                                                'feature3:' + x['feature3'], \n",
        "                                                                'feature4:' + x['feature4'], \n",
        "                                                                'feature5:' + x['feature5'], \n",
        "                                                                'num_ratings:' + x['num_ratings'], \n",
        "                                                                'avg_ratings:' + x['avg_ratings'], \n",
        "                                                                'region_name:' + x['region_name'], \n",
        "                                                                'food1:' + x['food1'], \n",
        "                                                                'food2:' + x['food2'], \n",
        "                                                                'food3:' + x['food3'], \n",
        "                                                                'food4:' + x['food4'], \n",
        "                                                                'food5:' + x['food5'], \n",
        "                                                                'food6:' + x['food6'], \n",
        "                                                                'food7:' + x['food7'], \n",
        "                                                                'note1:' + x['note1'], \n",
        "                                                                'note2:' + x['note2'], \n",
        "                                                                'note3:' + x['note3'], \n",
        "                                                                'note4:' + x['note4'], \n",
        "                                                                'note5:' + x['note5'], \n",
        "                                                                'note6:' + x['note6'], \n",
        "                                                                'note7:' + x['note7'], \n",
        "                                                                'note8:' + x['note8'], \n",
        "                                                                'note9:' + x['note9'], \n",
        "                                                                'note10:' + x['note10'], \n",
        "                                                                'note11:' + x['note11'], \n",
        "                                                                'note12:' + x['note12'], \n",
        "                                                                'note13:' + x['note13'], \n",
        "                                                                'class_name:' + x['class_name'],\n",
        "                                                                'price:' + x['price']])\n",
        "                                              for x in getFeatures()))\n",
        "print(repr(item_features)) "
      ],
      "execution_count": null,
      "outputs": [
        {
          "output_type": "stream",
          "text": [
            "<4397x37433 sparse matrix of type '<class 'numpy.float32'>'\n",
            "\twith 145069 stored elements in Compressed Sparse Row format>\n"
          ],
          "name": "stdout"
        }
      ]
    },
    {
      "cell_type": "code",
      "metadata": {
        "colab": {
          "base_uri": "https://localhost:8080/"
        },
        "id": "TNSnpMWekqC-",
        "outputId": "f9a46799-b86f-43f1-a7d3-288137ac8713"
      },
      "source": [
        "from lightfm.cross_validation import random_train_test_split\n",
        "import numpy as np\n",
        "\n",
        "# create the train and test data split \n",
        "train, test = random_train_test_split(interactions, test_percentage=0.1)\n",
        "\n",
        "print('The dataset has %s users and %s items, '\n",
        "      'with %s interactions in the test and %s interactions in the training set.'\n",
        "      % (train.shape[0], train.shape[1], test.getnnz(), train.getnnz()))"
      ],
      "execution_count": null,
      "outputs": [
        {
          "output_type": "stream",
          "text": [
            "The dataset has 16838 users and 3914 items, with 8844 interactions in the test and 79592 interactions in the training set.\n"
          ],
          "name": "stdout"
        }
      ]
    },
    {
      "cell_type": "code",
      "metadata": {
        "id": "0Eew1MzG5F7a"
      },
      "source": [
        "# Import the model\n",
        "from lightfm import LightFM\n",
        "\n",
        "# Set hyperparameters\n",
        "NUM_THREADS = 4\n",
        "NUM_COMPONENTS = 30\n",
        "NUM_EPOCHS = 15\n",
        "ITEM_ALPHA = 1e-7\n",
        "K = 10\n"
      ],
      "execution_count": null,
      "outputs": []
    },
    {
      "cell_type": "code",
      "metadata": {
        "colab": {
          "base_uri": "https://localhost:8080/"
        },
        "id": "yQc73rPm6teB",
        "outputId": "aaa60186-8b04-41f3-87c1-b326a47d1602"
      },
      "source": [
        "# Initialize the model\n",
        "cf_model = LightFM(loss='warp',\n",
        "                item_alpha=ITEM_ALPHA,\n",
        "               no_components=NUM_COMPONENTS)\n",
        "\n",
        "# Fit the model\n",
        "%time cf_model = cf_model.fit(train, epochs=NUM_EPOCHS, num_threads=NUM_THREADS)"
      ],
      "execution_count": null,
      "outputs": [
        {
          "output_type": "stream",
          "text": [
            "CPU times: user 3.26 s, sys: 9.99 ms, total: 3.27 s\n",
            "Wall time: 1.78 s\n"
          ],
          "name": "stdout"
        }
      ]
    },
    {
      "cell_type": "code",
      "metadata": {
        "colab": {
          "base_uri": "https://localhost:8080/"
        },
        "id": "QWbZAkXNaLrA",
        "outputId": "3713a1a0-a2a7-4f74-b9a2-f6eb5a857d78"
      },
      "source": [
        "# Import the evaluation routines\n",
        "from lightfm.evaluation import auc_score, precision_at_k, recall_at_k\n",
        "\n",
        "# Compute and print metrics for training data\n",
        "cf_train_auc = auc_score(cf_model, train, num_threads=NUM_THREADS).mean()\n",
        "cf_train_pak = precision_at_k(cf_model, train, num_threads=NUM_THREADS, k=K).mean()\n",
        "cf_train_rak = recall_at_k(cf_model, train, num_threads=NUM_THREADS, k=K).mean()\n",
        "print('Collaborative filtering train AUC: %s' % cf_train_auc)\n",
        "print('Collaborative filtering train precision @ K: %s' % cf_train_pak)\n",
        "print('Collaborative filtering train recall @ K: %s' % cf_train_rak)"
      ],
      "execution_count": null,
      "outputs": [
        {
          "output_type": "stream",
          "text": [
            "Collaborative filtering train AUC: 0.99024796\n",
            "Collaborative filtering train precision @ K: 0.16416733\n",
            "Collaborative filtering train recall @ K: 0.601338781923656\n"
          ],
          "name": "stdout"
        }
      ]
    },
    {
      "cell_type": "code",
      "metadata": {
        "colab": {
          "base_uri": "https://localhost:8080/"
        },
        "id": "NawO43D-aN0X",
        "outputId": "0e635fe7-0b98-4067-d133-a43b4f7cd191"
      },
      "source": [
        "# Compute and print metrics for test data\n",
        "cf_test_auc = auc_score(cf_model, test, train_interactions=train, num_threads=NUM_THREADS).mean()\n",
        "cf_test_pak = precision_at_k(cf_model, test, train_interactions=train, num_threads=NUM_THREADS, k=K).mean()\n",
        "cf_test_rak = recall_at_k(cf_model, test, train_interactions=train, num_threads=NUM_THREADS, k=K).mean()\n",
        "print('Collaborative filtering test AUC: %s' % cf_test_auc)\n",
        "print('Collaborative filtering test precision @ K: %s' % cf_test_pak)\n",
        "print('Collaborative filtering test recall @ K: %s' % cf_test_rak)"
      ],
      "execution_count": null,
      "outputs": [
        {
          "output_type": "stream",
          "text": [
            "Collaborative filtering test AUC: 0.83710164\n",
            "Collaborative filtering test precision @ K: 0.013795635\n",
            "Collaborative filtering test recall @ K: 0.0920092438391833\n"
          ],
          "name": "stdout"
        }
      ]
    },
    {
      "cell_type": "code",
      "metadata": {
        "colab": {
          "base_uri": "https://localhost:8080/"
        },
        "id": "6s3VfF2Qn2IO",
        "outputId": "94b70bde-a8ce-4cf4-8852-515804617f7b"
      },
      "source": [
        "print('There are %s distinct tags' % (item_features.shape[1]))"
      ],
      "execution_count": null,
      "outputs": [
        {
          "output_type": "stream",
          "text": [
            "There are 37433 distinct tags\n"
          ],
          "name": "stdout"
        }
      ]
    },
    {
      "cell_type": "code",
      "metadata": {
        "id": "LDiqGhIln6WR"
      },
      "source": [
        "# Define a new model instance\n",
        "hy_model = LightFM(loss='warp',\n",
        "                item_alpha=ITEM_ALPHA,\n",
        "                no_components=NUM_COMPONENTS)\n",
        "\n",
        "# Fit the hybrid model\n",
        "hy_model = hy_model.fit(train,\n",
        "                  item_features=item_features,\n",
        "                  epochs=NUM_EPOCHS,\n",
        "                  num_threads=NUM_THREADS)"
      ],
      "execution_count": null,
      "outputs": []
    },
    {
      "cell_type": "code",
      "metadata": {
        "id": "jIGKQ6pjn81p",
        "colab": {
          "base_uri": "https://localhost:8080/"
        },
        "outputId": "08ef87dd-09e3-423a-e249-ce6786c33042"
      },
      "source": [
        "# Compute and print metrics for training data for hybrid model\n",
        "hy_train_auc = auc_score(hy_model, train, item_features=item_features, num_threads=NUM_THREADS).mean()\n",
        "hy_train_pak = precision_at_k(hy_model, train, item_features=item_features, num_threads=NUM_THREADS).mean()\n",
        "hy_train_rak = recall_at_k(hy_model, train, item_features=item_features, num_threads=NUM_THREADS).mean()\n",
        "print('Hybrid Model train AUC: %s' % hy_train_auc)\n",
        "print('Hybrid Model train precision @ K: %s' % hy_train_pak)\n",
        "print('Hybrid Model train recall @ K: %s' % hy_train_rak)"
      ],
      "execution_count": null,
      "outputs": [
        {
          "output_type": "stream",
          "text": [
            "Hybrid Model train AUC: 0.9452752\n",
            "Hybrid Model train precision @ K: 0.059354167\n",
            "Hybrid Model train recall @ K: 0.18685855654603342\n"
          ],
          "name": "stdout"
        }
      ]
    },
    {
      "cell_type": "code",
      "metadata": {
        "colab": {
          "base_uri": "https://localhost:8080/"
        },
        "id": "1iY9nGYhqF47",
        "outputId": "aa12c59f-ccba-4a3b-bded-c8a42ab47b3f"
      },
      "source": [
        "# Compute and print metrics for test data for hybrid model\n",
        "hy_test_auc = auc_score(hy_model, test, train_interactions=train, item_features=item_features, num_threads=NUM_THREADS).mean()\n",
        "hy_test_pak = precision_at_k(hy_model, test, train_interactions=train, item_features=item_features, num_threads=NUM_THREADS, k=K).mean()\n",
        "hy_test_rak = recall_at_k(hy_model, test, train_interactions=train, item_features=item_features, num_threads=NUM_THREADS, k=K).mean()\n",
        "print('Hybrid Model test AUC: %s' % hy_test_auc)\n",
        "print('Hybrid Model test precision @ K: %s' % hy_test_pak)\n",
        "print('Hybrid Model test recall @ K: %s' % hy_test_rak)"
      ],
      "execution_count": null,
      "outputs": [
        {
          "output_type": "stream",
          "text": [
            "Hybrid Model test AUC: 0.8477068\n",
            "Hybrid Model test precision @ K: 0.014015777\n",
            "Hybrid Model test recall @ K: 0.09111055052673683\n"
          ],
          "name": "stdout"
        }
      ]
    },
    {
      "cell_type": "code",
      "metadata": {
        "colab": {
          "base_uri": "https://localhost:8080/"
        },
        "id": "vz76A18_guAl",
        "outputId": "2fd3cde0-0b5d-40ab-9a0c-aaed8a1e72ed"
      },
      "source": [
        "print('                               TRAIN                                   ')\n",
        "print('_______________________________________________________________________')\n",
        "print('|___________|      AUC      |    Precision at K    |    Recall at K   |')\n",
        "print('| CF MODEL  |   {:.8f}  |      {:.9f}     |  {:.12f}  |'.format(cf_train_auc, cf_train_pak, cf_train_rak))\n",
        "print('|___________|_______________|______________________|__________________|')\n",
        "print('|  Hybird   |   {:.8f}  |      {:.9f}     |  {:.12f}  |' .format(hy_train_auc, hy_train_pak, hy_train_rak))\n",
        "print('|___________|_______________|______________________|__________________|')"
      ],
      "execution_count": 25,
      "outputs": [
        {
          "output_type": "stream",
          "text": [
            "                               TRAIN                                   \n",
            "_______________________________________________________________________\n",
            "|___________|      AUC      |    Precision at K    |    Recall at K   |\n",
            "| CF MODEL  |   0.99024796  |      0.164167330     |  0.601338781924  |\n",
            "|___________|_______________|______________________|__________________|\n",
            "|  Hybird   |   0.94527519  |      0.059354167     |  0.186858556546  |\n",
            "|___________|_______________|______________________|__________________|\n"
          ],
          "name": "stdout"
        }
      ]
    },
    {
      "cell_type": "code",
      "metadata": {
        "colab": {
          "base_uri": "https://localhost:8080/"
        },
        "id": "XktdxOAQ4ecz",
        "outputId": "7c0e724a-5b33-4316-de91-1bd8014ca11a"
      },
      "source": [
        "print('                                TEST                                   ')\n",
        "print('_______________________________________________________________________')\n",
        "print('|___________|      AUC      |    Precision at K    |    Recall at K   |')\n",
        "print('| CF MODEL  |   {:.8f}  |      {:.9f}     |  {:.12f}  |'.format(cf_test_auc, cf_test_pak, cf_test_rak))\n",
        "print('|___________|_______________|______________________|__________________|')\n",
        "print('|  Hybird   |   {:.8f}  |      {:.9f}     |  {:.12f}  |' .format(hy_test_auc, hy_test_pak, hy_test_rak))\n",
        "print('|___________|_______________|______________________|__________________|')"
      ],
      "execution_count": 26,
      "outputs": [
        {
          "output_type": "stream",
          "text": [
            "                                TEST                                   \n",
            "_______________________________________________________________________\n",
            "|___________|      AUC      |    Precision at K    |    Recall at K   |\n",
            "| CF MODEL  |   0.83710164  |      0.013795635     |  0.092009243839  |\n",
            "|___________|_______________|______________________|__________________|\n",
            "|  Hybird   |   0.84770679  |      0.014015777     |  0.091110550527  |\n",
            "|___________|_______________|______________________|__________________|\n"
          ],
          "name": "stdout"
        }
      ]
    }
  ]
}